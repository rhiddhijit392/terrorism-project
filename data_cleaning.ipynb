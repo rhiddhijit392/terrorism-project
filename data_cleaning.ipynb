{
 "cells": [
  {
   "cell_type": "code",
   "execution_count": 7,
   "metadata": {},
   "outputs": [],
   "source": [
    "import pandas as pd\n",
    "import numpy as np\n",
    "import matplotlib.pyplot as plt\n",
    "import seaborn as sns"
   ]
  },
  {
   "cell_type": "code",
   "execution_count": 8,
   "metadata": {},
   "outputs": [
    {
     "data": {
      "text/html": [
       "<div>\n",
       "<style scoped>\n",
       "    .dataframe tbody tr th:only-of-type {\n",
       "        vertical-align: middle;\n",
       "    }\n",
       "\n",
       "    .dataframe tbody tr th {\n",
       "        vertical-align: top;\n",
       "    }\n",
       "\n",
       "    .dataframe thead th {\n",
       "        text-align: right;\n",
       "    }\n",
       "</style>\n",
       "<table border=\"1\" class=\"dataframe\">\n",
       "  <thead>\n",
       "    <tr style=\"text-align: right;\">\n",
       "      <th></th>\n",
       "      <th>Unnamed: 0</th>\n",
       "      <th>iyear</th>\n",
       "      <th>city</th>\n",
       "      <th>country_txt</th>\n",
       "      <th>latitude</th>\n",
       "      <th>longitude</th>\n",
       "      <th>attacktype1_txt</th>\n",
       "      <th>targtype1_txt</th>\n",
       "      <th>targsubtype1_txt</th>\n",
       "      <th>target1</th>\n",
       "      <th>...</th>\n",
       "      <th>Unnamed: 19</th>\n",
       "      <th>Unnamed: 20</th>\n",
       "      <th>Unnamed: 21</th>\n",
       "      <th>Unnamed: 22</th>\n",
       "      <th>Unnamed: 23</th>\n",
       "      <th>Unnamed: 24</th>\n",
       "      <th>Unnamed: 25</th>\n",
       "      <th>Unnamed: 26</th>\n",
       "      <th>Unnamed: 27</th>\n",
       "      <th>Unnamed: 28</th>\n",
       "    </tr>\n",
       "  </thead>\n",
       "  <tbody>\n",
       "    <tr>\n",
       "      <th>0</th>\n",
       "      <td>2689</td>\n",
       "      <td>1975</td>\n",
       "      <td>Samastipur</td>\n",
       "      <td>India</td>\n",
       "      <td>25.863042</td>\n",
       "      <td>85.781004</td>\n",
       "      <td>Bombing/Explosion</td>\n",
       "      <td>Government (General)</td>\n",
       "      <td>Government Personnel (excluding police, military)</td>\n",
       "      <td>Lalit Narayan Mishra and a legislator</td>\n",
       "      <td>...</td>\n",
       "      <td>NaN</td>\n",
       "      <td>NaN</td>\n",
       "      <td>NaN</td>\n",
       "      <td>NaN</td>\n",
       "      <td>NaN</td>\n",
       "      <td>NaN</td>\n",
       "      <td>NaN</td>\n",
       "      <td>NaN</td>\n",
       "      <td>NaN</td>\n",
       "      <td>NaN</td>\n",
       "    </tr>\n",
       "    <tr>\n",
       "      <th>1</th>\n",
       "      <td>64983</td>\n",
       "      <td>1997</td>\n",
       "      <td>Unknown</td>\n",
       "      <td>India</td>\n",
       "      <td>33.778175</td>\n",
       "      <td>76.576171</td>\n",
       "      <td>Bombing/Explosion</td>\n",
       "      <td>Transportation</td>\n",
       "      <td>Bus Station/Stop</td>\n",
       "      <td>A bus station in Kashmir</td>\n",
       "      <td>...</td>\n",
       "      <td>NaN</td>\n",
       "      <td>NaN</td>\n",
       "      <td>NaN</td>\n",
       "      <td>NaN</td>\n",
       "      <td>NaN</td>\n",
       "      <td>NaN</td>\n",
       "      <td>NaN</td>\n",
       "      <td>NaN</td>\n",
       "      <td>NaN</td>\n",
       "      <td>NaN</td>\n",
       "    </tr>\n",
       "    <tr>\n",
       "      <th>2</th>\n",
       "      <td>66994</td>\n",
       "      <td>1997</td>\n",
       "      <td>Dhalai district</td>\n",
       "      <td>India</td>\n",
       "      <td>23.846698</td>\n",
       "      <td>91.909924</td>\n",
       "      <td>Bombing/Explosion</td>\n",
       "      <td>Military</td>\n",
       "      <td>Military Unit/Patrol/Convoy</td>\n",
       "      <td>Border Patrol Guards</td>\n",
       "      <td>...</td>\n",
       "      <td>NaN</td>\n",
       "      <td>NaN</td>\n",
       "      <td>NaN</td>\n",
       "      <td>NaN</td>\n",
       "      <td>NaN</td>\n",
       "      <td>NaN</td>\n",
       "      <td>NaN</td>\n",
       "      <td>NaN</td>\n",
       "      <td>NaN</td>\n",
       "      <td>NaN</td>\n",
       "    </tr>\n",
       "    <tr>\n",
       "      <th>3</th>\n",
       "      <td>67087</td>\n",
       "      <td>1997</td>\n",
       "      <td>Hyderabad</td>\n",
       "      <td>India</td>\n",
       "      <td>17.376812</td>\n",
       "      <td>78.487812</td>\n",
       "      <td>Bombing/Explosion</td>\n",
       "      <td>Private Citizens &amp; Property</td>\n",
       "      <td>Procession/Gathering (funeral, wedding, birthd...</td>\n",
       "      <td>People leaving a party.  Wounded included Moha...</td>\n",
       "      <td>...</td>\n",
       "      <td>NaN</td>\n",
       "      <td>NaN</td>\n",
       "      <td>NaN</td>\n",
       "      <td>NaN</td>\n",
       "      <td>NaN</td>\n",
       "      <td>NaN</td>\n",
       "      <td>NaN</td>\n",
       "      <td>NaN</td>\n",
       "      <td>NaN</td>\n",
       "      <td>NaN</td>\n",
       "    </tr>\n",
       "    <tr>\n",
       "      <th>4</th>\n",
       "      <td>67454</td>\n",
       "      <td>1998</td>\n",
       "      <td>New Delhi</td>\n",
       "      <td>India</td>\n",
       "      <td>28.632381</td>\n",
       "      <td>77.220004</td>\n",
       "      <td>Bombing/Explosion</td>\n",
       "      <td>Private Citizens &amp; Property</td>\n",
       "      <td>Unnamed Civilian/Unspecified</td>\n",
       "      <td>Civilians in New Delhi</td>\n",
       "      <td>...</td>\n",
       "      <td>NaN</td>\n",
       "      <td>NaN</td>\n",
       "      <td>NaN</td>\n",
       "      <td>NaN</td>\n",
       "      <td>NaN</td>\n",
       "      <td>NaN</td>\n",
       "      <td>NaN</td>\n",
       "      <td>NaN</td>\n",
       "      <td>NaN</td>\n",
       "      <td>NaN</td>\n",
       "    </tr>\n",
       "  </tbody>\n",
       "</table>\n",
       "<p>5 rows × 29 columns</p>\n",
       "</div>"
      ],
      "text/plain": [
       "   Unnamed: 0  iyear             city country_txt   latitude  longitude  \\\n",
       "0        2689   1975       Samastipur       India  25.863042  85.781004   \n",
       "1       64983   1997          Unknown       India  33.778175  76.576171   \n",
       "2       66994   1997  Dhalai district       India  23.846698  91.909924   \n",
       "3       67087   1997        Hyderabad       India  17.376812  78.487812   \n",
       "4       67454   1998        New Delhi       India  28.632381  77.220004   \n",
       "\n",
       "     attacktype1_txt                targtype1_txt  \\\n",
       "0  Bombing/Explosion         Government (General)   \n",
       "1  Bombing/Explosion               Transportation   \n",
       "2  Bombing/Explosion                     Military   \n",
       "3  Bombing/Explosion  Private Citizens & Property   \n",
       "4  Bombing/Explosion  Private Citizens & Property   \n",
       "\n",
       "                                    targsubtype1_txt  \\\n",
       "0  Government Personnel (excluding police, military)   \n",
       "1                                   Bus Station/Stop   \n",
       "2                        Military Unit/Patrol/Convoy   \n",
       "3  Procession/Gathering (funeral, wedding, birthd...   \n",
       "4                       Unnamed Civilian/Unspecified   \n",
       "\n",
       "                                             target1  ... Unnamed: 19  \\\n",
       "0              Lalit Narayan Mishra and a legislator  ...         NaN   \n",
       "1                           A bus station in Kashmir  ...         NaN   \n",
       "2                               Border Patrol Guards  ...         NaN   \n",
       "3  People leaving a party.  Wounded included Moha...  ...         NaN   \n",
       "4                             Civilians in New Delhi  ...         NaN   \n",
       "\n",
       "  Unnamed: 20 Unnamed: 21 Unnamed: 22 Unnamed: 23  Unnamed: 24 Unnamed: 25  \\\n",
       "0         NaN         NaN         NaN         NaN          NaN         NaN   \n",
       "1         NaN         NaN         NaN         NaN          NaN         NaN   \n",
       "2         NaN         NaN         NaN         NaN          NaN         NaN   \n",
       "3         NaN         NaN         NaN         NaN          NaN         NaN   \n",
       "4         NaN         NaN         NaN         NaN          NaN         NaN   \n",
       "\n",
       "  Unnamed: 26  Unnamed: 27  Unnamed: 28  \n",
       "0         NaN          NaN          NaN  \n",
       "1         NaN          NaN          NaN  \n",
       "2         NaN          NaN          NaN  \n",
       "3         NaN          NaN          NaN  \n",
       "4         NaN          NaN          NaN  \n",
       "\n",
       "[5 rows x 29 columns]"
      ]
     },
     "execution_count": 8,
     "metadata": {},
     "output_type": "execute_result"
    }
   ],
   "source": [
    "df1=pd.read_csv(r'indiadata.csv')\n",
    "df1.head()"
   ]
  },
  {
   "cell_type": "code",
   "execution_count": 9,
   "metadata": {},
   "outputs": [
    {
     "data": {
      "text/plain": [
       "14"
      ]
     },
     "execution_count": 9,
     "metadata": {},
     "output_type": "execute_result"
    }
   ],
   "source": [
    "df1.columns.get_loc('summary')"
   ]
  },
  {
   "cell_type": "code",
   "execution_count": 10,
   "metadata": {},
   "outputs": [
    {
     "data": {
      "text/html": [
       "<div>\n",
       "<style scoped>\n",
       "    .dataframe tbody tr th:only-of-type {\n",
       "        vertical-align: middle;\n",
       "    }\n",
       "\n",
       "    .dataframe tbody tr th {\n",
       "        vertical-align: top;\n",
       "    }\n",
       "\n",
       "    .dataframe thead th {\n",
       "        text-align: right;\n",
       "    }\n",
       "</style>\n",
       "<table border=\"1\" class=\"dataframe\">\n",
       "  <thead>\n",
       "    <tr style=\"text-align: right;\">\n",
       "      <th></th>\n",
       "      <th>Unnamed: 0</th>\n",
       "      <th>iyear</th>\n",
       "      <th>city</th>\n",
       "      <th>country_txt</th>\n",
       "      <th>latitude</th>\n",
       "      <th>longitude</th>\n",
       "      <th>attacktype1_txt</th>\n",
       "      <th>targtype1_txt</th>\n",
       "      <th>targsubtype1_txt</th>\n",
       "      <th>target1</th>\n",
       "      <th>weaptype1_txt</th>\n",
       "      <th>weapsubtype1_txt</th>\n",
       "      <th>gname</th>\n",
       "      <th>motive</th>\n",
       "      <th>summary</th>\n",
       "    </tr>\n",
       "  </thead>\n",
       "  <tbody>\n",
       "    <tr>\n",
       "      <th>0</th>\n",
       "      <td>2689</td>\n",
       "      <td>1975</td>\n",
       "      <td>Samastipur</td>\n",
       "      <td>India</td>\n",
       "      <td>25.863042</td>\n",
       "      <td>85.781004</td>\n",
       "      <td>Bombing/Explosion</td>\n",
       "      <td>Government (General)</td>\n",
       "      <td>Government Personnel (excluding police, military)</td>\n",
       "      <td>Lalit Narayan Mishra and a legislator</td>\n",
       "      <td>Explosives/Bombs/Dynamite</td>\n",
       "      <td>Unknown Explosive Type</td>\n",
       "      <td>Ananda Marga</td>\n",
       "      <td>Unknown</td>\n",
       "      <td>1/2/1975: The Indian Railway Minister, Lalit N...</td>\n",
       "    </tr>\n",
       "    <tr>\n",
       "      <th>1</th>\n",
       "      <td>64983</td>\n",
       "      <td>1997</td>\n",
       "      <td>Unknown</td>\n",
       "      <td>India</td>\n",
       "      <td>33.778175</td>\n",
       "      <td>76.576171</td>\n",
       "      <td>Bombing/Explosion</td>\n",
       "      <td>Transportation</td>\n",
       "      <td>Bus Station/Stop</td>\n",
       "      <td>A bus station in Kashmir</td>\n",
       "      <td>Explosives/Bombs/Dynamite</td>\n",
       "      <td>Vehicle</td>\n",
       "      <td>Muslim Rebels</td>\n",
       "      <td>Specific motive is unknown; however, the blast...</td>\n",
       "      <td>3/29/1997: Two explosions occurred at a bus st...</td>\n",
       "    </tr>\n",
       "    <tr>\n",
       "      <th>2</th>\n",
       "      <td>66994</td>\n",
       "      <td>1997</td>\n",
       "      <td>Dhalai district</td>\n",
       "      <td>India</td>\n",
       "      <td>23.846698</td>\n",
       "      <td>91.909924</td>\n",
       "      <td>Bombing/Explosion</td>\n",
       "      <td>Military</td>\n",
       "      <td>Military Unit/Patrol/Convoy</td>\n",
       "      <td>Border Patrol Guards</td>\n",
       "      <td>Explosives/Bombs/Dynamite</td>\n",
       "      <td>Land Mine</td>\n",
       "      <td>National Liberation Front of Tripura (NLFT)</td>\n",
       "      <td>While the motive for this attack is unknown, t...</td>\n",
       "      <td>11/7/1997: A suspected anti-tank land mine exp...</td>\n",
       "    </tr>\n",
       "    <tr>\n",
       "      <th>3</th>\n",
       "      <td>67087</td>\n",
       "      <td>1997</td>\n",
       "      <td>Hyderabad</td>\n",
       "      <td>India</td>\n",
       "      <td>17.376812</td>\n",
       "      <td>78.487812</td>\n",
       "      <td>Bombing/Explosion</td>\n",
       "      <td>Private Citizens &amp; Property</td>\n",
       "      <td>Procession/Gathering (funeral, wedding, birthd...</td>\n",
       "      <td>People leaving a party.  Wounded included Moha...</td>\n",
       "      <td>Explosives/Bombs/Dynamite</td>\n",
       "      <td>Vehicle</td>\n",
       "      <td>Unknown</td>\n",
       "      <td>While the motive for this attack is unknown, i...</td>\n",
       "      <td>11/19/1997: A car bomb exploded in Hyderabad i...</td>\n",
       "    </tr>\n",
       "    <tr>\n",
       "      <th>4</th>\n",
       "      <td>67454</td>\n",
       "      <td>1998</td>\n",
       "      <td>New Delhi</td>\n",
       "      <td>India</td>\n",
       "      <td>28.632381</td>\n",
       "      <td>77.220004</td>\n",
       "      <td>Bombing/Explosion</td>\n",
       "      <td>Private Citizens &amp; Property</td>\n",
       "      <td>Unnamed Civilian/Unspecified</td>\n",
       "      <td>Civilians in New Delhi</td>\n",
       "      <td>Explosives/Bombs/Dynamite</td>\n",
       "      <td>Time Fuse</td>\n",
       "      <td>Unknown</td>\n",
       "      <td>Unknown</td>\n",
       "      <td>01/09/1998: At least 44 people were injured, t...</td>\n",
       "    </tr>\n",
       "  </tbody>\n",
       "</table>\n",
       "</div>"
      ],
      "text/plain": [
       "   Unnamed: 0  iyear             city country_txt   latitude  longitude  \\\n",
       "0        2689   1975       Samastipur       India  25.863042  85.781004   \n",
       "1       64983   1997          Unknown       India  33.778175  76.576171   \n",
       "2       66994   1997  Dhalai district       India  23.846698  91.909924   \n",
       "3       67087   1997        Hyderabad       India  17.376812  78.487812   \n",
       "4       67454   1998        New Delhi       India  28.632381  77.220004   \n",
       "\n",
       "     attacktype1_txt                targtype1_txt  \\\n",
       "0  Bombing/Explosion         Government (General)   \n",
       "1  Bombing/Explosion               Transportation   \n",
       "2  Bombing/Explosion                     Military   \n",
       "3  Bombing/Explosion  Private Citizens & Property   \n",
       "4  Bombing/Explosion  Private Citizens & Property   \n",
       "\n",
       "                                    targsubtype1_txt  \\\n",
       "0  Government Personnel (excluding police, military)   \n",
       "1                                   Bus Station/Stop   \n",
       "2                        Military Unit/Patrol/Convoy   \n",
       "3  Procession/Gathering (funeral, wedding, birthd...   \n",
       "4                       Unnamed Civilian/Unspecified   \n",
       "\n",
       "                                             target1  \\\n",
       "0              Lalit Narayan Mishra and a legislator   \n",
       "1                           A bus station in Kashmir   \n",
       "2                               Border Patrol Guards   \n",
       "3  People leaving a party.  Wounded included Moha...   \n",
       "4                             Civilians in New Delhi   \n",
       "\n",
       "               weaptype1_txt        weapsubtype1_txt  \\\n",
       "0  Explosives/Bombs/Dynamite  Unknown Explosive Type   \n",
       "1  Explosives/Bombs/Dynamite                 Vehicle   \n",
       "2  Explosives/Bombs/Dynamite               Land Mine   \n",
       "3  Explosives/Bombs/Dynamite                 Vehicle   \n",
       "4  Explosives/Bombs/Dynamite               Time Fuse   \n",
       "\n",
       "                                         gname  \\\n",
       "0                                 Ananda Marga   \n",
       "1                                Muslim Rebels   \n",
       "2  National Liberation Front of Tripura (NLFT)   \n",
       "3                                      Unknown   \n",
       "4                                      Unknown   \n",
       "\n",
       "                                              motive  \\\n",
       "0                                            Unknown   \n",
       "1  Specific motive is unknown; however, the blast...   \n",
       "2  While the motive for this attack is unknown, t...   \n",
       "3  While the motive for this attack is unknown, i...   \n",
       "4                                            Unknown   \n",
       "\n",
       "                                             summary  \n",
       "0  1/2/1975: The Indian Railway Minister, Lalit N...  \n",
       "1  3/29/1997: Two explosions occurred at a bus st...  \n",
       "2  11/7/1997: A suspected anti-tank land mine exp...  \n",
       "3  11/19/1997: A car bomb exploded in Hyderabad i...  \n",
       "4  01/09/1998: At least 44 people were injured, t...  "
      ]
     },
     "execution_count": 10,
     "metadata": {},
     "output_type": "execute_result"
    }
   ],
   "source": [
    "df1=df1.drop(df1.iloc[:,15:],axis=1)\n",
    "df1.head()"
   ]
  },
  {
   "cell_type": "code",
   "execution_count": 11,
   "metadata": {},
   "outputs": [],
   "source": [
    "df1=df1.drop('motive',axis=1)"
   ]
  },
  {
   "cell_type": "code",
   "execution_count": 12,
   "metadata": {},
   "outputs": [
    {
     "data": {
      "text/plain": [
       "0         1/2/1975\n",
       "1        3/29/1997\n",
       "2        11/7/1997\n",
       "3       11/19/1997\n",
       "4       01/09/1998\n",
       "           ...    \n",
       "4963    12/24/2015\n",
       "4964    12/25/2015\n",
       "4965    12/25/2015\n",
       "4966    12/26/2015\n",
       "4967    12/30/2015\n",
       "Name: Date, Length: 4968, dtype: object"
      ]
     },
     "execution_count": 12,
     "metadata": {},
     "output_type": "execute_result"
    }
   ],
   "source": [
    "### Fetching dates from summary column\n",
    "df1['Date']=df1['summary'].str.split(':').str[0]\n",
    "df1['Date']"
   ]
  },
  {
   "cell_type": "code",
   "execution_count": null,
   "metadata": {},
   "outputs": [],
   "source": [
    "### Splitting dates into day,month,year\n",
    "df1['Month']=df1['Date'].str.split('/').str[0]\n",
    "df1['Day']=df1['Date'].str.split('/').str[1]\n",
    "df1['Year']=df1['Date'].str.split('/').str[2]"
   ]
  },
  {
   "cell_type": "code",
   "execution_count": 14,
   "metadata": {},
   "outputs": [
    {
     "data": {
      "text/plain": [
       "2228"
      ]
     },
     "execution_count": 14,
     "metadata": {},
     "output_type": "execute_result"
    }
   ],
   "source": [
    "len(df1['city'].unique())"
   ]
  },
  {
   "cell_type": "code",
   "execution_count": 33,
   "metadata": {},
   "outputs": [
    {
     "name": "stdout",
     "output_type": "stream",
     "text": [
      "city : 2226\n",
      "attacktype : 9\n",
      "targtype : 21\n",
      "targsubtype : 87\n",
      "target : 3988\n",
      "weaptype : 8\n",
      "weapsubtype : 29\n",
      "gname : 158\n"
     ]
    }
   ],
   "source": [
    "cat=[x for x in df1.columns if df1[x].dtypes=='object']\n",
    "for x in cat:\n",
    "    print(x,':',len(df1[x].unique()))"
   ]
  },
  {
   "cell_type": "code",
   "execution_count": 16,
   "metadata": {},
   "outputs": [],
   "source": [
    "### Dropping year, index column and country name\n",
    "df1=df1.drop(['Unnamed: 0','iyear','country_txt'],axis=1)"
   ]
  },
  {
   "cell_type": "code",
   "execution_count": 17,
   "metadata": {},
   "outputs": [],
   "source": [
    "df1=df1.drop(['summary','Date'],axis=1)"
   ]
  },
  {
   "cell_type": "code",
   "execution_count": 18,
   "metadata": {},
   "outputs": [
    {
     "data": {
      "text/plain": [
       "Int64Index([1890, 1974, 2620, 4373, 4715, 4716, 4923], dtype='int64')"
      ]
     },
     "execution_count": 18,
     "metadata": {},
     "output_type": "execute_result"
    }
   ],
   "source": [
    "### Rows with null missing values\n",
    "df1.loc[df1['Year'].isnull()].index"
   ]
  },
  {
   "cell_type": "code",
   "execution_count": 19,
   "metadata": {},
   "outputs": [],
   "source": [
    "df1=df1.drop((df1.loc[df1['Year'].isnull()].index),axis=0)"
   ]
  },
  {
   "cell_type": "code",
   "execution_count": 20,
   "metadata": {},
   "outputs": [
    {
     "data": {
      "text/html": [
       "<div>\n",
       "<style scoped>\n",
       "    .dataframe tbody tr th:only-of-type {\n",
       "        vertical-align: middle;\n",
       "    }\n",
       "\n",
       "    .dataframe tbody tr th {\n",
       "        vertical-align: top;\n",
       "    }\n",
       "\n",
       "    .dataframe thead th {\n",
       "        text-align: right;\n",
       "    }\n",
       "</style>\n",
       "<table border=\"1\" class=\"dataframe\">\n",
       "  <thead>\n",
       "    <tr style=\"text-align: right;\">\n",
       "      <th></th>\n",
       "      <th>latitude</th>\n",
       "      <th>longitude</th>\n",
       "    </tr>\n",
       "  </thead>\n",
       "  <tbody>\n",
       "    <tr>\n",
       "      <th>0</th>\n",
       "      <td>25.863042</td>\n",
       "      <td>85.781004</td>\n",
       "    </tr>\n",
       "    <tr>\n",
       "      <th>1</th>\n",
       "      <td>33.778175</td>\n",
       "      <td>76.576171</td>\n",
       "    </tr>\n",
       "    <tr>\n",
       "      <th>2</th>\n",
       "      <td>23.846698</td>\n",
       "      <td>91.909924</td>\n",
       "    </tr>\n",
       "    <tr>\n",
       "      <th>3</th>\n",
       "      <td>17.376812</td>\n",
       "      <td>78.487812</td>\n",
       "    </tr>\n",
       "    <tr>\n",
       "      <th>4</th>\n",
       "      <td>28.632381</td>\n",
       "      <td>77.220004</td>\n",
       "    </tr>\n",
       "    <tr>\n",
       "      <th>...</th>\n",
       "      <td>...</td>\n",
       "      <td>...</td>\n",
       "    </tr>\n",
       "    <tr>\n",
       "      <th>4963</th>\n",
       "      <td>23.633224</td>\n",
       "      <td>85.514874</td>\n",
       "    </tr>\n",
       "    <tr>\n",
       "      <th>4964</th>\n",
       "      <td>20.225002</td>\n",
       "      <td>85.418406</td>\n",
       "    </tr>\n",
       "    <tr>\n",
       "      <th>4965</th>\n",
       "      <td>18.343586</td>\n",
       "      <td>81.882528</td>\n",
       "    </tr>\n",
       "    <tr>\n",
       "      <th>4966</th>\n",
       "      <td>18.325329</td>\n",
       "      <td>81.429048</td>\n",
       "    </tr>\n",
       "    <tr>\n",
       "      <th>4967</th>\n",
       "      <td>25.862989</td>\n",
       "      <td>93.753666</td>\n",
       "    </tr>\n",
       "  </tbody>\n",
       "</table>\n",
       "<p>4961 rows × 2 columns</p>\n",
       "</div>"
      ],
      "text/plain": [
       "       latitude  longitude\n",
       "0     25.863042  85.781004\n",
       "1     33.778175  76.576171\n",
       "2     23.846698  91.909924\n",
       "3     17.376812  78.487812\n",
       "4     28.632381  77.220004\n",
       "...         ...        ...\n",
       "4963  23.633224  85.514874\n",
       "4964  20.225002  85.418406\n",
       "4965  18.343586  81.882528\n",
       "4966  18.325329  81.429048\n",
       "4967  25.862989  93.753666\n",
       "\n",
       "[4961 rows x 2 columns]"
      ]
     },
     "execution_count": 20,
     "metadata": {},
     "output_type": "execute_result"
    }
   ],
   "source": [
    "### Numerical values\n",
    "num=[x for x in df1.columns if df1[x].dtypes!='object']\n",
    "df1[num]"
   ]
  },
  {
   "cell_type": "code",
   "execution_count": 26,
   "metadata": {},
   "outputs": [],
   "source": [
    "df1['Year']=df1['Year'].str.split(' ').str[0]"
   ]
  },
  {
   "cell_type": "code",
   "execution_count": 27,
   "metadata": {},
   "outputs": [],
   "source": [
    "df1['Year']=df1['Year'].str.split('.').str[0]"
   ]
  },
  {
   "cell_type": "code",
   "execution_count": 28,
   "metadata": {},
   "outputs": [
    {
     "data": {
      "text/plain": [
       "2009    670\n",
       "2010    655\n",
       "2011    642\n",
       "2008    506\n",
       "2013    263\n",
       "2015    242\n",
       "2014    232\n",
       "2001    231\n",
       "2012    224\n",
       "2003    196\n",
       "2002    181\n",
       "2000    179\n",
       "2006    164\n",
       "2007    149\n",
       "2005    143\n",
       "1999    111\n",
       "2004    108\n",
       "1998     61\n",
       "1997      3\n",
       "1975      1\n",
       "Name: Year, dtype: int64"
      ]
     },
     "execution_count": 28,
     "metadata": {},
     "output_type": "execute_result"
    }
   ],
   "source": [
    "### Number of attacks per year\n",
    "df1['Year'].value_counts()"
   ]
  },
  {
   "cell_type": "code",
   "execution_count": 23,
   "metadata": {},
   "outputs": [],
   "source": [
    "df1['Day']=df1['Day'].astype(int)"
   ]
  },
  {
   "cell_type": "code",
   "execution_count": 24,
   "metadata": {},
   "outputs": [],
   "source": [
    "df1['Month']=df1['Month'].astype(int)"
   ]
  },
  {
   "cell_type": "code",
   "execution_count": 29,
   "metadata": {},
   "outputs": [],
   "source": [
    "df1['Year']=df1['Year'].astype(int)"
   ]
  },
  {
   "cell_type": "code",
   "execution_count": 30,
   "metadata": {},
   "outputs": [],
   "source": [
    "df1=df1.rename(columns={'attacktype1_txt':'attacktype'})\n",
    "df1=df1.rename(columns={'targtype1_txt':'targtype'})\n",
    "df1=df1.rename(columns={'targsubtype1_txt':'targsubtype'})\n",
    "df1=df1.rename(columns={'target1':'target'})\n",
    "df1=df1.rename(columns={'weaptype1_txt':'weaptype'})\n",
    "df1=df1.rename(columns={'weapsubtype1_txt':'weapsubtype'})"
   ]
  },
  {
   "cell_type": "code",
   "execution_count": null,
   "metadata": {},
   "outputs": [
    {
     "data": {
      "text/plain": [
       "Imphal      228\n",
       "Srinagar    220\n",
       "Unknown     136\n",
       "Guwahati     61\n",
       "Sopore       40\n",
       "           ... \n",
       "Rahe          1\n",
       "Awoora        1\n",
       "Sonbarsa      1\n",
       "Meduru        1\n",
       "Zhutovi       1\n",
       "Name: city, Length: 2226, dtype: int64"
      ]
     },
     "execution_count": 29,
     "metadata": {},
     "output_type": "execute_result"
    }
   ],
   "source": [
    "df1['city'].value_counts()"
   ]
  },
  {
   "cell_type": "code",
   "execution_count": null,
   "metadata": {},
   "outputs": [
    {
     "data": {
      "text/plain": [
       "Unknown Gun Type                             1564\n",
       "Unknown Explosive Type                        674\n",
       "Grenade                                       533\n",
       ".                                             403\n",
       "Arson/Fire                                    329\n",
       "Other Explosive Type                          315\n",
       "Land Mine                                     265\n",
       "Knife or Other Sharp Object                   181\n",
       "Automatic Weapon                              180\n",
       "Remote Trigger                                 80\n",
       "Vehicle                                        75\n",
       "Time Fuse                                      61\n",
       "Dynamite/TNT                                   53\n",
       "Gasoline or Alcohol                            46\n",
       "Handgun                                        44\n",
       "Projectile (rockets, mortars, RPGs, etc.)      43\n",
       "Hands, Feet, Fists                             30\n",
       "Blunt Object                                   25\n",
       "Other Gun Type                                 12\n",
       "Rifle/Shotgun (non-automatic)                  11\n",
       "Suicide (carried bodily by human being)        11\n",
       "Pressure Trigger                                7\n",
       "Molotov Cocktail/Petrol Bomb                    6\n",
       "Poisoning                                       3\n",
       "Unknown Weapon Type                             3\n",
       "Rope or Other Strangling Device                 2\n",
       "Sticky Bomb                                     2\n",
       "Letter Bomb                                     2\n",
       "Suffocation                                     1\n",
       "Name: weapsubtype, dtype: int64"
      ]
     },
     "execution_count": 30,
     "metadata": {},
     "output_type": "execute_result"
    }
   ],
   "source": [
    "df1['weapsubtype'].value_counts()"
   ]
  },
  {
   "cell_type": "code",
   "execution_count": null,
   "metadata": {},
   "outputs": [
    {
     "data": {
      "text/html": [
       "<div>\n",
       "<style scoped>\n",
       "    .dataframe tbody tr th:only-of-type {\n",
       "        vertical-align: middle;\n",
       "    }\n",
       "\n",
       "    .dataframe tbody tr th {\n",
       "        vertical-align: top;\n",
       "    }\n",
       "\n",
       "    .dataframe thead th {\n",
       "        text-align: right;\n",
       "    }\n",
       "</style>\n",
       "<table border=\"1\" class=\"dataframe\">\n",
       "  <thead>\n",
       "    <tr style=\"text-align: right;\">\n",
       "      <th></th>\n",
       "      <th>city</th>\n",
       "      <th>attacktype</th>\n",
       "      <th>targtype</th>\n",
       "      <th>targsubtype</th>\n",
       "      <th>target</th>\n",
       "      <th>weaptype</th>\n",
       "      <th>weapsubtype</th>\n",
       "      <th>gname</th>\n",
       "    </tr>\n",
       "  </thead>\n",
       "  <tbody>\n",
       "    <tr>\n",
       "      <th>0</th>\n",
       "      <td>Samastipur</td>\n",
       "      <td>Bombing/Explosion</td>\n",
       "      <td>Government (General)</td>\n",
       "      <td>Government Personnel (excluding police, military)</td>\n",
       "      <td>Lalit Narayan Mishra and a legislator</td>\n",
       "      <td>Explosives/Bombs/Dynamite</td>\n",
       "      <td>Unknown Explosive Type</td>\n",
       "      <td>Ananda Marga</td>\n",
       "    </tr>\n",
       "    <tr>\n",
       "      <th>1</th>\n",
       "      <td>Unknown</td>\n",
       "      <td>Bombing/Explosion</td>\n",
       "      <td>Transportation</td>\n",
       "      <td>Bus Station/Stop</td>\n",
       "      <td>A bus station in Kashmir</td>\n",
       "      <td>Explosives/Bombs/Dynamite</td>\n",
       "      <td>Vehicle</td>\n",
       "      <td>Muslim Rebels</td>\n",
       "    </tr>\n",
       "    <tr>\n",
       "      <th>2</th>\n",
       "      <td>Dhalai district</td>\n",
       "      <td>Bombing/Explosion</td>\n",
       "      <td>Military</td>\n",
       "      <td>Military Unit/Patrol/Convoy</td>\n",
       "      <td>Border Patrol Guards</td>\n",
       "      <td>Explosives/Bombs/Dynamite</td>\n",
       "      <td>Land Mine</td>\n",
       "      <td>National Liberation Front of Tripura (NLFT)</td>\n",
       "    </tr>\n",
       "    <tr>\n",
       "      <th>3</th>\n",
       "      <td>Hyderabad</td>\n",
       "      <td>Bombing/Explosion</td>\n",
       "      <td>Private Citizens &amp; Property</td>\n",
       "      <td>Procession/Gathering (funeral, wedding, birthd...</td>\n",
       "      <td>People leaving a party.  Wounded included Moha...</td>\n",
       "      <td>Explosives/Bombs/Dynamite</td>\n",
       "      <td>Vehicle</td>\n",
       "      <td>Unknown</td>\n",
       "    </tr>\n",
       "    <tr>\n",
       "      <th>4</th>\n",
       "      <td>New Delhi</td>\n",
       "      <td>Bombing/Explosion</td>\n",
       "      <td>Private Citizens &amp; Property</td>\n",
       "      <td>Unnamed Civilian/Unspecified</td>\n",
       "      <td>Civilians in New Delhi</td>\n",
       "      <td>Explosives/Bombs/Dynamite</td>\n",
       "      <td>Time Fuse</td>\n",
       "      <td>Unknown</td>\n",
       "    </tr>\n",
       "    <tr>\n",
       "      <th>...</th>\n",
       "      <td>...</td>\n",
       "      <td>...</td>\n",
       "      <td>...</td>\n",
       "      <td>...</td>\n",
       "      <td>...</td>\n",
       "      <td>...</td>\n",
       "      <td>...</td>\n",
       "      <td>...</td>\n",
       "    </tr>\n",
       "    <tr>\n",
       "      <th>4963</th>\n",
       "      <td>Ramgarh</td>\n",
       "      <td>Bombing/Explosion</td>\n",
       "      <td>Business</td>\n",
       "      <td>Industrial/Textiles/Factory</td>\n",
       "      <td>Electricity Transformer</td>\n",
       "      <td>Explosives/Bombs/Dynamite</td>\n",
       "      <td>Dynamite/TNT</td>\n",
       "      <td>Communist Party of India - Maoist (CPI-Maoist)</td>\n",
       "    </tr>\n",
       "    <tr>\n",
       "      <th>4964</th>\n",
       "      <td>Badapadar</td>\n",
       "      <td>Assassination</td>\n",
       "      <td>Government (General)</td>\n",
       "      <td>Politician or Political Party Movement/Meeting...</td>\n",
       "      <td>Village Head: Jayaram Khara</td>\n",
       "      <td>Firearms</td>\n",
       "      <td>Automatic Weapon</td>\n",
       "      <td>Communist Party of India - Maoist (CPI-Maoist)</td>\n",
       "    </tr>\n",
       "    <tr>\n",
       "      <th>4965</th>\n",
       "      <td>Kudumulgumma Raba</td>\n",
       "      <td>Hostage Taking (Kidnapping)</td>\n",
       "      <td>Government (General)</td>\n",
       "      <td>Politician or Political Party Movement/Meeting...</td>\n",
       "      <td>Brother of Former Village Head: Sahdev Badanayak</td>\n",
       "      <td>Firearms</td>\n",
       "      <td>Automatic Weapon</td>\n",
       "      <td>Communist Party of India - Maoist (CPI-Maoist)</td>\n",
       "    </tr>\n",
       "    <tr>\n",
       "      <th>4966</th>\n",
       "      <td>Pariya</td>\n",
       "      <td>Hostage Taking (Kidnapping)</td>\n",
       "      <td>Government (General)</td>\n",
       "      <td>Government Personnel (excluding police, military)</td>\n",
       "      <td>Postmaster: Sujit Modiyami</td>\n",
       "      <td>Firearms</td>\n",
       "      <td>Unknown Gun Type</td>\n",
       "      <td>Maoists</td>\n",
       "    </tr>\n",
       "    <tr>\n",
       "      <th>4967</th>\n",
       "      <td>Zhutovi</td>\n",
       "      <td>Armed Assault</td>\n",
       "      <td>Private Citizens &amp; Property</td>\n",
       "      <td>Laborer (General)/Occupation Identified</td>\n",
       "      <td>Truck Drivers</td>\n",
       "      <td>Firearms</td>\n",
       "      <td>Handgun</td>\n",
       "      <td>National Socialist Council of Nagaland-Khaplan...</td>\n",
       "    </tr>\n",
       "  </tbody>\n",
       "</table>\n",
       "<p>4961 rows × 8 columns</p>\n",
       "</div>"
      ],
      "text/plain": [
       "                   city                   attacktype  \\\n",
       "0            Samastipur            Bombing/Explosion   \n",
       "1               Unknown            Bombing/Explosion   \n",
       "2       Dhalai district            Bombing/Explosion   \n",
       "3             Hyderabad            Bombing/Explosion   \n",
       "4             New Delhi            Bombing/Explosion   \n",
       "...                 ...                          ...   \n",
       "4963            Ramgarh            Bombing/Explosion   \n",
       "4964          Badapadar                Assassination   \n",
       "4965  Kudumulgumma Raba  Hostage Taking (Kidnapping)   \n",
       "4966             Pariya  Hostage Taking (Kidnapping)   \n",
       "4967            Zhutovi                Armed Assault   \n",
       "\n",
       "                         targtype  \\\n",
       "0            Government (General)   \n",
       "1                  Transportation   \n",
       "2                        Military   \n",
       "3     Private Citizens & Property   \n",
       "4     Private Citizens & Property   \n",
       "...                           ...   \n",
       "4963                     Business   \n",
       "4964         Government (General)   \n",
       "4965         Government (General)   \n",
       "4966         Government (General)   \n",
       "4967  Private Citizens & Property   \n",
       "\n",
       "                                            targsubtype  \\\n",
       "0     Government Personnel (excluding police, military)   \n",
       "1                                      Bus Station/Stop   \n",
       "2                           Military Unit/Patrol/Convoy   \n",
       "3     Procession/Gathering (funeral, wedding, birthd...   \n",
       "4                          Unnamed Civilian/Unspecified   \n",
       "...                                                 ...   \n",
       "4963                        Industrial/Textiles/Factory   \n",
       "4964  Politician or Political Party Movement/Meeting...   \n",
       "4965  Politician or Political Party Movement/Meeting...   \n",
       "4966  Government Personnel (excluding police, military)   \n",
       "4967            Laborer (General)/Occupation Identified   \n",
       "\n",
       "                                                 target  \\\n",
       "0                 Lalit Narayan Mishra and a legislator   \n",
       "1                              A bus station in Kashmir   \n",
       "2                                  Border Patrol Guards   \n",
       "3     People leaving a party.  Wounded included Moha...   \n",
       "4                                Civilians in New Delhi   \n",
       "...                                                 ...   \n",
       "4963                            Electricity Transformer   \n",
       "4964                        Village Head: Jayaram Khara   \n",
       "4965   Brother of Former Village Head: Sahdev Badanayak   \n",
       "4966                         Postmaster: Sujit Modiyami   \n",
       "4967                                      Truck Drivers   \n",
       "\n",
       "                       weaptype             weapsubtype  \\\n",
       "0     Explosives/Bombs/Dynamite  Unknown Explosive Type   \n",
       "1     Explosives/Bombs/Dynamite                 Vehicle   \n",
       "2     Explosives/Bombs/Dynamite               Land Mine   \n",
       "3     Explosives/Bombs/Dynamite                 Vehicle   \n",
       "4     Explosives/Bombs/Dynamite               Time Fuse   \n",
       "...                         ...                     ...   \n",
       "4963  Explosives/Bombs/Dynamite            Dynamite/TNT   \n",
       "4964                   Firearms        Automatic Weapon   \n",
       "4965                   Firearms        Automatic Weapon   \n",
       "4966                   Firearms        Unknown Gun Type   \n",
       "4967                   Firearms                 Handgun   \n",
       "\n",
       "                                                  gname  \n",
       "0                                          Ananda Marga  \n",
       "1                                         Muslim Rebels  \n",
       "2           National Liberation Front of Tripura (NLFT)  \n",
       "3                                               Unknown  \n",
       "4                                               Unknown  \n",
       "...                                                 ...  \n",
       "4963     Communist Party of India - Maoist (CPI-Maoist)  \n",
       "4964     Communist Party of India - Maoist (CPI-Maoist)  \n",
       "4965     Communist Party of India - Maoist (CPI-Maoist)  \n",
       "4966                                            Maoists  \n",
       "4967  National Socialist Council of Nagaland-Khaplan...  \n",
       "\n",
       "[4961 rows x 8 columns]"
      ]
     },
     "execution_count": 33,
     "metadata": {},
     "output_type": "execute_result"
    }
   ],
   "source": [
    "df1[cat]"
   ]
  },
  {
   "cell_type": "code",
   "execution_count": null,
   "metadata": {},
   "outputs": [
    {
     "data": {
      "image/png": "[encoded data removed]",
      "text/plain": [
       "<Figure size 640x480 with 1 Axes>"
      ]
     },
     "metadata": {},
     "output_type": "display_data"
    }
   ],
   "source": [
    "sns.countplot(x=df1['Year'],order=df1['Year'].value_counts().iloc[:10].index)\n",
    "plt.rcParams['figure.figsize']=(16,16)\n",
    "plt.show()"
   ]
  },
  {
   "cell_type": "code",
   "execution_count": null,
   "metadata": {},
   "outputs": [
    {
     "data": {
      "image/png": "[encoded data removed]",
      "text/plain": [
       "<Figure size 1600x1600 with 1 Axes>"
      ]
     },
     "metadata": {},
     "output_type": "display_data"
    },
    {
     "data": {
      "image/png": "[encoded data removed]",
      "text/plain": [
       "<Figure size 1600x1600 with 1 Axes>"
      ]
     },
     "metadata": {},
     "output_type": "display_data"
    },
    {
     "data": {
      "image/png": "[encoded data removed]",
      "text/plain": [
       "<Figure size 1600x1600 with 1 Axes>"
      ]
     },
     "metadata": {},
     "output_type": "display_data"
    },
    {
     "data": {
      "image/png": "[encoded data removed]",
      "text/plain": [
       "<Figure size 1600x1600 with 1 Axes>"
      ]
     },
     "metadata": {},
     "output_type": "display_data"
    },
    {
     "data": {
      "image/png": "[encoded data removed]",
      "text/plain": [
       "<Figure size 1600x1600 with 1 Axes>"
      ]
     },
     "metadata": {},
     "output_type": "display_data"
    },
    {
     "data": {
      "image/png": "[encoded data removed]",
      "text/plain": [
       "<Figure size 1600x1600 with 1 Axes>"
      ]
     },
     "metadata": {},
     "output_type": "display_data"
    },
    {
     "data": {
      "image/png": "[encoded data removed]",
      "text/plain": [
       "<Figure size 1600x1600 with 1 Axes>"
      ]
     },
     "metadata": {},
     "output_type": "display_data"
    },
    {
     "data": {
      "image/png": "[encoded data removed]",
      "text/plain": [
       "<Figure size 1600x1600 with 1 Axes>"
      ]
     },
     "metadata": {},
     "output_type": "display_data"
    }
   ],
   "source": [
    "for x in cat:\n",
    "    sns.countplot(x=df1[x],order=df1[x].value_counts().iloc[:7].index)\n",
    "    plt.rcParams['figure.figsize']=(16,16)\n",
    "    plt.show()"
   ]
  },
  {
   "cell_type": "code",
   "execution_count": 34,
   "metadata": {},
   "outputs": [
    {
     "name": "stdout",
     "output_type": "stream",
     "text": [
      "attacktype 9\n",
      "targtype 21\n",
      "targsubtype 87\n",
      "weaptype 8\n",
      "weapsubtype 29\n",
      "gname 158\n"
     ]
    }
   ],
   "source": [
    "for x in cat:\n",
    "    if len(df1[x].unique())<2000:\n",
    "        print(x,len(df1[x].unique()))"
   ]
  },
  {
   "cell_type": "code",
   "execution_count": 35,
   "metadata": {},
   "outputs": [],
   "source": [
    "df2=df1.copy()"
   ]
  },
  {
   "cell_type": "code",
   "execution_count": 36,
   "metadata": {},
   "outputs": [
    {
     "data": {
      "text/html": [
       "<div>\n",
       "<style scoped>\n",
       "    .dataframe tbody tr th:only-of-type {\n",
       "        vertical-align: middle;\n",
       "    }\n",
       "\n",
       "    .dataframe tbody tr th {\n",
       "        vertical-align: top;\n",
       "    }\n",
       "\n",
       "    .dataframe thead th {\n",
       "        text-align: right;\n",
       "    }\n",
       "</style>\n",
       "<table border=\"1\" class=\"dataframe\">\n",
       "  <thead>\n",
       "    <tr style=\"text-align: right;\">\n",
       "      <th></th>\n",
       "      <th>city</th>\n",
       "      <th>latitude</th>\n",
       "      <th>longitude</th>\n",
       "      <th>attacktype</th>\n",
       "      <th>targtype</th>\n",
       "      <th>targsubtype</th>\n",
       "      <th>target</th>\n",
       "      <th>weaptype</th>\n",
       "      <th>weapsubtype</th>\n",
       "      <th>gname</th>\n",
       "      <th>Month</th>\n",
       "      <th>Day</th>\n",
       "      <th>Year</th>\n",
       "    </tr>\n",
       "  </thead>\n",
       "  <tbody>\n",
       "    <tr>\n",
       "      <th>0</th>\n",
       "      <td>Samastipur</td>\n",
       "      <td>25.863042</td>\n",
       "      <td>85.781004</td>\n",
       "      <td>Bombing/Explosion</td>\n",
       "      <td>Government (General)</td>\n",
       "      <td>Government Personnel (excluding police, military)</td>\n",
       "      <td>Lalit Narayan Mishra and a legislator</td>\n",
       "      <td>Explosives/Bombs/Dynamite</td>\n",
       "      <td>Unknown Explosive Type</td>\n",
       "      <td>Ananda Marga</td>\n",
       "      <td>1</td>\n",
       "      <td>2</td>\n",
       "      <td>1975</td>\n",
       "    </tr>\n",
       "    <tr>\n",
       "      <th>1</th>\n",
       "      <td>Unknown</td>\n",
       "      <td>33.778175</td>\n",
       "      <td>76.576171</td>\n",
       "      <td>Bombing/Explosion</td>\n",
       "      <td>Transportation</td>\n",
       "      <td>Bus Station/Stop</td>\n",
       "      <td>A bus station in Kashmir</td>\n",
       "      <td>Explosives/Bombs/Dynamite</td>\n",
       "      <td>Vehicle</td>\n",
       "      <td>Muslim Rebels</td>\n",
       "      <td>3</td>\n",
       "      <td>29</td>\n",
       "      <td>1997</td>\n",
       "    </tr>\n",
       "    <tr>\n",
       "      <th>2</th>\n",
       "      <td>Dhalai district</td>\n",
       "      <td>23.846698</td>\n",
       "      <td>91.909924</td>\n",
       "      <td>Bombing/Explosion</td>\n",
       "      <td>Military</td>\n",
       "      <td>Military Unit/Patrol/Convoy</td>\n",
       "      <td>Border Patrol Guards</td>\n",
       "      <td>Explosives/Bombs/Dynamite</td>\n",
       "      <td>Land Mine</td>\n",
       "      <td>National Liberation Front of Tripura (NLFT)</td>\n",
       "      <td>11</td>\n",
       "      <td>7</td>\n",
       "      <td>1997</td>\n",
       "    </tr>\n",
       "    <tr>\n",
       "      <th>3</th>\n",
       "      <td>Hyderabad</td>\n",
       "      <td>17.376812</td>\n",
       "      <td>78.487812</td>\n",
       "      <td>Bombing/Explosion</td>\n",
       "      <td>Private Citizens &amp; Property</td>\n",
       "      <td>Procession/Gathering (funeral, wedding, birthd...</td>\n",
       "      <td>People leaving a party.  Wounded included Moha...</td>\n",
       "      <td>Explosives/Bombs/Dynamite</td>\n",
       "      <td>Vehicle</td>\n",
       "      <td>Unknown</td>\n",
       "      <td>11</td>\n",
       "      <td>19</td>\n",
       "      <td>1997</td>\n",
       "    </tr>\n",
       "    <tr>\n",
       "      <th>4</th>\n",
       "      <td>New Delhi</td>\n",
       "      <td>28.632381</td>\n",
       "      <td>77.220004</td>\n",
       "      <td>Bombing/Explosion</td>\n",
       "      <td>Private Citizens &amp; Property</td>\n",
       "      <td>Unnamed Civilian/Unspecified</td>\n",
       "      <td>Civilians in New Delhi</td>\n",
       "      <td>Explosives/Bombs/Dynamite</td>\n",
       "      <td>Time Fuse</td>\n",
       "      <td>Unknown</td>\n",
       "      <td>1</td>\n",
       "      <td>9</td>\n",
       "      <td>1998</td>\n",
       "    </tr>\n",
       "  </tbody>\n",
       "</table>\n",
       "</div>"
      ],
      "text/plain": [
       "              city   latitude  longitude         attacktype  \\\n",
       "0       Samastipur  25.863042  85.781004  Bombing/Explosion   \n",
       "1          Unknown  33.778175  76.576171  Bombing/Explosion   \n",
       "2  Dhalai district  23.846698  91.909924  Bombing/Explosion   \n",
       "3        Hyderabad  17.376812  78.487812  Bombing/Explosion   \n",
       "4        New Delhi  28.632381  77.220004  Bombing/Explosion   \n",
       "\n",
       "                      targtype  \\\n",
       "0         Government (General)   \n",
       "1               Transportation   \n",
       "2                     Military   \n",
       "3  Private Citizens & Property   \n",
       "4  Private Citizens & Property   \n",
       "\n",
       "                                         targsubtype  \\\n",
       "0  Government Personnel (excluding police, military)   \n",
       "1                                   Bus Station/Stop   \n",
       "2                        Military Unit/Patrol/Convoy   \n",
       "3  Procession/Gathering (funeral, wedding, birthd...   \n",
       "4                       Unnamed Civilian/Unspecified   \n",
       "\n",
       "                                              target  \\\n",
       "0              Lalit Narayan Mishra and a legislator   \n",
       "1                           A bus station in Kashmir   \n",
       "2                               Border Patrol Guards   \n",
       "3  People leaving a party.  Wounded included Moha...   \n",
       "4                             Civilians in New Delhi   \n",
       "\n",
       "                    weaptype             weapsubtype  \\\n",
       "0  Explosives/Bombs/Dynamite  Unknown Explosive Type   \n",
       "1  Explosives/Bombs/Dynamite                 Vehicle   \n",
       "2  Explosives/Bombs/Dynamite               Land Mine   \n",
       "3  Explosives/Bombs/Dynamite                 Vehicle   \n",
       "4  Explosives/Bombs/Dynamite               Time Fuse   \n",
       "\n",
       "                                         gname  Month  Day  Year  \n",
       "0                                 Ananda Marga      1    2  1975  \n",
       "1                                Muslim Rebels      3   29  1997  \n",
       "2  National Liberation Front of Tripura (NLFT)     11    7  1997  \n",
       "3                                      Unknown     11   19  1997  \n",
       "4                                      Unknown      1    9  1998  "
      ]
     },
     "execution_count": 36,
     "metadata": {},
     "output_type": "execute_result"
    }
   ],
   "source": [
    "df2.head()"
   ]
  },
  {
   "cell_type": "code",
   "execution_count": 37,
   "metadata": {},
   "outputs": [
    {
     "data": {
      "text/plain": [
       "Communist Party of India - Maoist (CPI-Maoist)      1546\n",
       "Unknown                                             1414\n",
       "Maoists                                              383\n",
       "United Liberation Front of Assam (ULFA)              238\n",
       "National Democratic Front of Bodoland (NDFB)         106\n",
       "                                                    ... \n",
       "United Democratic Terai Liberation Front (UDTLF)       1\n",
       "Al-Fajr                                                1\n",
       "Bhumi Uchched Pratirodh Committee (BUPC)               1\n",
       "Babbar Khalsa International (BKI)                      1\n",
       "United Tribal Liberation Army (UTLA)                   1\n",
       "Name: gname, Length: 158, dtype: int64"
      ]
     },
     "execution_count": 37,
     "metadata": {},
     "output_type": "execute_result"
    }
   ],
   "source": [
    "df2['gname'].value_counts()"
   ]
  },
  {
   "cell_type": "code",
   "execution_count": 38,
   "metadata": {},
   "outputs": [],
   "source": [
    "dict1=(df2['gname'].value_counts().to_dict())\n",
    "df2['gname']=df2['gname'].map(dict1)"
   ]
  },
  {
   "cell_type": "code",
   "execution_count": 39,
   "metadata": {},
   "outputs": [],
   "source": [
    "cat2=['attacktype','targtype','targsubtype','weaptype','weapsubtype']"
   ]
  },
  {
   "cell_type": "code",
   "execution_count": 40,
   "metadata": {},
   "outputs": [],
   "source": [
    "for x in cat2:\n",
    "    dict1=(df2[x].value_counts().to_dict())\n",
    "    df2[x]=df2[x].map(dict1)"
   ]
  },
  {
   "cell_type": "code",
   "execution_count": 43,
   "metadata": {},
   "outputs": [
    {
     "data": {
      "text/html": [
       "<div>\n",
       "<style scoped>\n",
       "    .dataframe tbody tr th:only-of-type {\n",
       "        vertical-align: middle;\n",
       "    }\n",
       "\n",
       "    .dataframe tbody tr th {\n",
       "        vertical-align: top;\n",
       "    }\n",
       "\n",
       "    .dataframe thead th {\n",
       "        text-align: right;\n",
       "    }\n",
       "</style>\n",
       "<table border=\"1\" class=\"dataframe\">\n",
       "  <thead>\n",
       "    <tr style=\"text-align: right;\">\n",
       "      <th></th>\n",
       "      <th>city</th>\n",
       "      <th>latitude</th>\n",
       "      <th>longitude</th>\n",
       "      <th>attacktype</th>\n",
       "      <th>targtype</th>\n",
       "      <th>targsubtype</th>\n",
       "      <th>target</th>\n",
       "      <th>weaptype</th>\n",
       "      <th>weapsubtype</th>\n",
       "      <th>gname</th>\n",
       "      <th>Month</th>\n",
       "      <th>Day</th>\n",
       "      <th>Year</th>\n",
       "    </tr>\n",
       "  </thead>\n",
       "  <tbody>\n",
       "    <tr>\n",
       "      <th>0</th>\n",
       "      <td>Samastipur</td>\n",
       "      <td>25.863042</td>\n",
       "      <td>85.781004</td>\n",
       "      <td>2036</td>\n",
       "      <td>876</td>\n",
       "      <td>296</td>\n",
       "      <td>Lalit Narayan Mishra and a legislator</td>\n",
       "      <td>2121</td>\n",
       "      <td>674</td>\n",
       "      <td>1</td>\n",
       "      <td>1</td>\n",
       "      <td>2</td>\n",
       "      <td>1975</td>\n",
       "    </tr>\n",
       "    <tr>\n",
       "      <th>1</th>\n",
       "      <td>Unknown</td>\n",
       "      <td>33.778175</td>\n",
       "      <td>76.576171</td>\n",
       "      <td>2036</td>\n",
       "      <td>368</td>\n",
       "      <td>29</td>\n",
       "      <td>A bus station in Kashmir</td>\n",
       "      <td>2121</td>\n",
       "      <td>75</td>\n",
       "      <td>4</td>\n",
       "      <td>3</td>\n",
       "      <td>29</td>\n",
       "      <td>1997</td>\n",
       "    </tr>\n",
       "    <tr>\n",
       "      <th>2</th>\n",
       "      <td>Dhalai district</td>\n",
       "      <td>23.846698</td>\n",
       "      <td>91.909924</td>\n",
       "      <td>2036</td>\n",
       "      <td>313</td>\n",
       "      <td>86</td>\n",
       "      <td>Border Patrol Guards</td>\n",
       "      <td>2121</td>\n",
       "      <td>265</td>\n",
       "      <td>62</td>\n",
       "      <td>11</td>\n",
       "      <td>7</td>\n",
       "      <td>1997</td>\n",
       "    </tr>\n",
       "    <tr>\n",
       "      <th>3</th>\n",
       "      <td>Hyderabad</td>\n",
       "      <td>17.376812</td>\n",
       "      <td>78.487812</td>\n",
       "      <td>2036</td>\n",
       "      <td>1538</td>\n",
       "      <td>19</td>\n",
       "      <td>People leaving a party.  Wounded included Moha...</td>\n",
       "      <td>2121</td>\n",
       "      <td>75</td>\n",
       "      <td>1414</td>\n",
       "      <td>11</td>\n",
       "      <td>19</td>\n",
       "      <td>1997</td>\n",
       "    </tr>\n",
       "    <tr>\n",
       "      <th>4</th>\n",
       "      <td>New Delhi</td>\n",
       "      <td>28.632381</td>\n",
       "      <td>77.220004</td>\n",
       "      <td>2036</td>\n",
       "      <td>1538</td>\n",
       "      <td>447</td>\n",
       "      <td>Civilians in New Delhi</td>\n",
       "      <td>2121</td>\n",
       "      <td>61</td>\n",
       "      <td>1414</td>\n",
       "      <td>1</td>\n",
       "      <td>9</td>\n",
       "      <td>1998</td>\n",
       "    </tr>\n",
       "  </tbody>\n",
       "</table>\n",
       "</div>"
      ],
      "text/plain": [
       "              city   latitude  longitude  attacktype  targtype  targsubtype  \\\n",
       "0       Samastipur  25.863042  85.781004        2036       876          296   \n",
       "1          Unknown  33.778175  76.576171        2036       368           29   \n",
       "2  Dhalai district  23.846698  91.909924        2036       313           86   \n",
       "3        Hyderabad  17.376812  78.487812        2036      1538           19   \n",
       "4        New Delhi  28.632381  77.220004        2036      1538          447   \n",
       "\n",
       "                                              target  weaptype  weapsubtype  \\\n",
       "0              Lalit Narayan Mishra and a legislator      2121          674   \n",
       "1                           A bus station in Kashmir      2121           75   \n",
       "2                               Border Patrol Guards      2121          265   \n",
       "3  People leaving a party.  Wounded included Moha...      2121           75   \n",
       "4                             Civilians in New Delhi      2121           61   \n",
       "\n",
       "   gname  Month  Day  Year  \n",
       "0      1      1    2  1975  \n",
       "1      4      3   29  1997  \n",
       "2     62     11    7  1997  \n",
       "3   1414     11   19  1997  \n",
       "4   1414      1    9  1998  "
      ]
     },
     "execution_count": 43,
     "metadata": {},
     "output_type": "execute_result"
    }
   ],
   "source": [
    "df2.head()"
   ]
  },
  {
   "cell_type": "code",
   "execution_count": 44,
   "metadata": {},
   "outputs": [],
   "source": [
    "train=['latitude','longitude','targtype','targsubtype','weaptype','weapsubtype','gname','Month','Day','Year']\n",
    "x=df2[train]\n",
    "y=df2['attacktype']"
   ]
  },
  {
   "cell_type": "code",
   "execution_count": 45,
   "metadata": {},
   "outputs": [
    {
     "data": {
      "text/html": [
       "<div>\n",
       "<style scoped>\n",
       "    .dataframe tbody tr th:only-of-type {\n",
       "        vertical-align: middle;\n",
       "    }\n",
       "\n",
       "    .dataframe tbody tr th {\n",
       "        vertical-align: top;\n",
       "    }\n",
       "\n",
       "    .dataframe thead th {\n",
       "        text-align: right;\n",
       "    }\n",
       "</style>\n",
       "<table border=\"1\" class=\"dataframe\">\n",
       "  <thead>\n",
       "    <tr style=\"text-align: right;\">\n",
       "      <th></th>\n",
       "      <th>latitude</th>\n",
       "      <th>longitude</th>\n",
       "      <th>targtype</th>\n",
       "      <th>targsubtype</th>\n",
       "      <th>weaptype</th>\n",
       "      <th>weapsubtype</th>\n",
       "      <th>gname</th>\n",
       "      <th>Month</th>\n",
       "      <th>Day</th>\n",
       "      <th>Year</th>\n",
       "    </tr>\n",
       "  </thead>\n",
       "  <tbody>\n",
       "    <tr>\n",
       "      <th>0</th>\n",
       "      <td>25.863042</td>\n",
       "      <td>85.781004</td>\n",
       "      <td>876</td>\n",
       "      <td>296</td>\n",
       "      <td>2121</td>\n",
       "      <td>674</td>\n",
       "      <td>1</td>\n",
       "      <td>1</td>\n",
       "      <td>2</td>\n",
       "      <td>1975</td>\n",
       "    </tr>\n",
       "    <tr>\n",
       "      <th>1</th>\n",
       "      <td>33.778175</td>\n",
       "      <td>76.576171</td>\n",
       "      <td>368</td>\n",
       "      <td>29</td>\n",
       "      <td>2121</td>\n",
       "      <td>75</td>\n",
       "      <td>4</td>\n",
       "      <td>3</td>\n",
       "      <td>29</td>\n",
       "      <td>1997</td>\n",
       "    </tr>\n",
       "    <tr>\n",
       "      <th>2</th>\n",
       "      <td>23.846698</td>\n",
       "      <td>91.909924</td>\n",
       "      <td>313</td>\n",
       "      <td>86</td>\n",
       "      <td>2121</td>\n",
       "      <td>265</td>\n",
       "      <td>62</td>\n",
       "      <td>11</td>\n",
       "      <td>7</td>\n",
       "      <td>1997</td>\n",
       "    </tr>\n",
       "    <tr>\n",
       "      <th>3</th>\n",
       "      <td>17.376812</td>\n",
       "      <td>78.487812</td>\n",
       "      <td>1538</td>\n",
       "      <td>19</td>\n",
       "      <td>2121</td>\n",
       "      <td>75</td>\n",
       "      <td>1414</td>\n",
       "      <td>11</td>\n",
       "      <td>19</td>\n",
       "      <td>1997</td>\n",
       "    </tr>\n",
       "    <tr>\n",
       "      <th>4</th>\n",
       "      <td>28.632381</td>\n",
       "      <td>77.220004</td>\n",
       "      <td>1538</td>\n",
       "      <td>447</td>\n",
       "      <td>2121</td>\n",
       "      <td>61</td>\n",
       "      <td>1414</td>\n",
       "      <td>1</td>\n",
       "      <td>9</td>\n",
       "      <td>1998</td>\n",
       "    </tr>\n",
       "  </tbody>\n",
       "</table>\n",
       "</div>"
      ],
      "text/plain": [
       "    latitude  longitude  targtype  targsubtype  weaptype  weapsubtype  gname  \\\n",
       "0  25.863042  85.781004       876          296      2121          674      1   \n",
       "1  33.778175  76.576171       368           29      2121           75      4   \n",
       "2  23.846698  91.909924       313           86      2121          265     62   \n",
       "3  17.376812  78.487812      1538           19      2121           75   1414   \n",
       "4  28.632381  77.220004      1538          447      2121           61   1414   \n",
       "\n",
       "   Month  Day  Year  \n",
       "0      1    2  1975  \n",
       "1      3   29  1997  \n",
       "2     11    7  1997  \n",
       "3     11   19  1997  \n",
       "4      1    9  1998  "
      ]
     },
     "execution_count": 45,
     "metadata": {},
     "output_type": "execute_result"
    }
   ],
   "source": [
    "x.head()"
   ]
  },
  {
   "cell_type": "code",
   "execution_count": 46,
   "metadata": {},
   "outputs": [
    {
     "data": {
      "text/plain": [
       "0       2036\n",
       "1       2036\n",
       "2       2036\n",
       "3       2036\n",
       "4       2036\n",
       "        ... \n",
       "4963    2036\n",
       "4964     200\n",
       "4965     592\n",
       "4966     592\n",
       "4967    1514\n",
       "Name: attacktype, Length: 4961, dtype: int64"
      ]
     },
     "execution_count": 46,
     "metadata": {},
     "output_type": "execute_result"
    }
   ],
   "source": [
    "y"
   ]
  },
  {
   "cell_type": "code",
   "execution_count": 47,
   "metadata": {},
   "outputs": [],
   "source": [
    "from sklearn.model_selection import train_test_split\n",
    "x_train,x_test,y_train,y_test=train_test_split(x,y)"
   ]
  },
  {
   "cell_type": "code",
   "execution_count": 48,
   "metadata": {},
   "outputs": [],
   "source": [
    "from sklearn.preprocessing import StandardScaler\n",
    "sc=StandardScaler()\n",
    "x_train=sc.fit_transform(x_train)\n",
    "x_test=sc.transform(x_test)"
   ]
  },
  {
   "cell_type": "code",
   "execution_count": 49,
   "metadata": {},
   "outputs": [],
   "source": [
    "import tensorflow as tf\n",
    "from tensorflow.keras.models import Sequential\n",
    "from tensorflow.keras.layers import Dense\n",
    "from tensorflow.keras.layers import ReLU,PReLU,ELU,LeakyReLU\n",
    "from tensorflow.keras.layers import Dropout"
   ]
  },
  {
   "cell_type": "code",
   "execution_count": 82,
   "metadata": {},
   "outputs": [],
   "source": [
    "ans=Sequential()\n",
    "ans.add(Dense(units=10,activation='ReLU'))\n",
    "ans.add(Dense(units=8,activation='ReLU'))\n",
    "ans.add(Dense(units=6,activation='ReLU'))\n",
    "ans.add(Dense(units=2,activation='ReLU'))\n",
    "ans.add(Dense(units=1))"
   ]
  },
  {
   "cell_type": "code",
   "execution_count": 83,
   "metadata": {},
   "outputs": [],
   "source": [
    "ans.compile(optimizer='adam',loss='MSE',metrics=['MSE'])"
   ]
  },
  {
   "cell_type": "code",
   "execution_count": 84,
   "metadata": {},
   "outputs": [],
   "source": [
    "early=tf.keras.callbacks.EarlyStopping(\n",
    "    monitor='val_loss',\n",
    "    min_delta=0.001,\n",
    "    patience=5,\n",
    "    verbose=1,\n",
    "    mode='auto',\n",
    "    baseline=None,\n",
    "    restore_best_weights=False,\n",
    "    start_from_epoch=0\n",
    ")"
   ]
  },
  {
   "cell_type": "code",
   "execution_count": 85,
   "metadata": {},
   "outputs": [
    {
     "name": "stdout",
     "output_type": "stream",
     "text": [
      "Epoch 1/1000\n",
      "224/224 [==============================] - 2s 3ms/step - loss: 2440916.7500 - MSE: 2440916.7500 - val_loss: 2374549.0000 - val_MSE: 2374549.0000\n",
      "Epoch 2/1000\n",
      "224/224 [==============================] - 0s 2ms/step - loss: 1657386.8750 - MSE: 1657386.8750 - val_loss: 511745.5625 - val_MSE: 511745.5625\n",
      "Epoch 3/1000\n",
      "224/224 [==============================] - 0s 2ms/step - loss: 293024.9688 - MSE: 293024.9688 - val_loss: 224469.7344 - val_MSE: 224469.7344\n",
      "Epoch 4/1000\n",
      "224/224 [==============================] - 1s 2ms/step - loss: 205405.0781 - MSE: 205405.0781 - val_loss: 201397.0938 - val_MSE: 201397.0938\n",
      "Epoch 5/1000\n",
      "224/224 [==============================] - 0s 2ms/step - loss: 191332.0156 - MSE: 191332.0156 - val_loss: 192981.9062 - val_MSE: 192981.9375\n",
      "Epoch 6/1000\n",
      "224/224 [==============================] - 0s 2ms/step - loss: 184880.0938 - MSE: 184880.0938 - val_loss: 189409.0781 - val_MSE: 189409.0781\n",
      "Epoch 7/1000\n",
      "224/224 [==============================] - 0s 2ms/step - loss: 181241.0781 - MSE: 181241.0781 - val_loss: 186399.5625 - val_MSE: 186399.5625\n",
      "Epoch 8/1000\n",
      "224/224 [==============================] - 0s 2ms/step - loss: 177860.2188 - MSE: 177860.2188 - val_loss: 181363.3906 - val_MSE: 181363.3906\n",
      "Epoch 9/1000\n",
      "224/224 [==============================] - 0s 2ms/step - loss: 175340.0469 - MSE: 175340.0469 - val_loss: 179700.9219 - val_MSE: 179700.9219\n",
      "Epoch 10/1000\n",
      "224/224 [==============================] - 0s 2ms/step - loss: 173605.0000 - MSE: 173605.0000 - val_loss: 177856.6094 - val_MSE: 177856.6094\n",
      "Epoch 11/1000\n",
      "224/224 [==============================] - 0s 2ms/step - loss: 171890.7656 - MSE: 171890.7656 - val_loss: 175620.0938 - val_MSE: 175620.0938\n",
      "Epoch 12/1000\n",
      "224/224 [==============================] - 0s 2ms/step - loss: 170724.2500 - MSE: 170724.2500 - val_loss: 174195.8750 - val_MSE: 174195.8750\n",
      "Epoch 13/1000\n",
      "224/224 [==============================] - 0s 2ms/step - loss: 168434.1719 - MSE: 168434.1719 - val_loss: 173424.6094 - val_MSE: 173424.6094\n",
      "Epoch 14/1000\n",
      "224/224 [==============================] - 0s 2ms/step - loss: 167480.7812 - MSE: 167480.7812 - val_loss: 171879.4688 - val_MSE: 171879.4688\n",
      "Epoch 15/1000\n",
      "224/224 [==============================] - 0s 2ms/step - loss: 166018.5625 - MSE: 166018.5625 - val_loss: 170032.4844 - val_MSE: 170032.4844\n",
      "Epoch 16/1000\n",
      "224/224 [==============================] - 0s 2ms/step - loss: 164923.5000 - MSE: 164923.5000 - val_loss: 169125.2969 - val_MSE: 169125.2969\n",
      "Epoch 17/1000\n",
      "224/224 [==============================] - 1s 2ms/step - loss: 163469.1250 - MSE: 163469.1250 - val_loss: 167202.4688 - val_MSE: 167202.4688\n",
      "Epoch 18/1000\n",
      "224/224 [==============================] - 1s 2ms/step - loss: 162943.7344 - MSE: 162943.7344 - val_loss: 166249.0000 - val_MSE: 166249.0000\n",
      "Epoch 19/1000\n",
      "224/224 [==============================] - 0s 2ms/step - loss: 162453.9375 - MSE: 162453.9375 - val_loss: 165674.8281 - val_MSE: 165674.8281\n",
      "Epoch 20/1000\n",
      "224/224 [==============================] - 0s 2ms/step - loss: 161083.8750 - MSE: 161083.8750 - val_loss: 165074.0156 - val_MSE: 165074.0156\n",
      "Epoch 21/1000\n",
      "224/224 [==============================] - 0s 2ms/step - loss: 160134.6562 - MSE: 160134.6562 - val_loss: 163667.4062 - val_MSE: 163667.4062\n",
      "Epoch 22/1000\n",
      "224/224 [==============================] - 0s 2ms/step - loss: 159288.8281 - MSE: 159288.8125 - val_loss: 162643.9531 - val_MSE: 162643.9531\n",
      "Epoch 23/1000\n",
      "224/224 [==============================] - 0s 2ms/step - loss: 158683.6562 - MSE: 158683.6562 - val_loss: 162504.2500 - val_MSE: 162504.2500\n",
      "Epoch 24/1000\n",
      "224/224 [==============================] - 0s 2ms/step - loss: 158532.1094 - MSE: 158532.1094 - val_loss: 163525.7969 - val_MSE: 163525.8125\n",
      "Epoch 25/1000\n",
      "224/224 [==============================] - 0s 2ms/step - loss: 158044.5625 - MSE: 158044.5625 - val_loss: 160807.5312 - val_MSE: 160807.5312\n",
      "Epoch 26/1000\n",
      "224/224 [==============================] - 0s 2ms/step - loss: 157109.7188 - MSE: 157109.7188 - val_loss: 161670.1875 - val_MSE: 161670.1875\n",
      "Epoch 27/1000\n",
      "224/224 [==============================] - 0s 2ms/step - loss: 156641.2344 - MSE: 156641.2344 - val_loss: 159868.2344 - val_MSE: 159868.2344\n",
      "Epoch 28/1000\n",
      "224/224 [==============================] - 0s 2ms/step - loss: 156199.4844 - MSE: 156199.4844 - val_loss: 160611.1562 - val_MSE: 160611.1562\n",
      "Epoch 29/1000\n",
      "224/224 [==============================] - 1s 2ms/step - loss: 155677.2500 - MSE: 155677.2500 - val_loss: 159482.2969 - val_MSE: 159482.2969\n",
      "Epoch 30/1000\n",
      "224/224 [==============================] - 0s 2ms/step - loss: 154983.6719 - MSE: 154983.6719 - val_loss: 158688.2812 - val_MSE: 158688.2812\n",
      "Epoch 31/1000\n",
      "224/224 [==============================] - 0s 2ms/step - loss: 154937.7188 - MSE: 154937.7188 - val_loss: 157949.4219 - val_MSE: 157949.4219\n",
      "Epoch 32/1000\n",
      "224/224 [==============================] - 0s 2ms/step - loss: 154266.8750 - MSE: 154266.8750 - val_loss: 156968.6094 - val_MSE: 156968.6094\n",
      "Epoch 33/1000\n",
      "224/224 [==============================] - 0s 2ms/step - loss: 153981.6406 - MSE: 153981.6406 - val_loss: 156522.1406 - val_MSE: 156522.1406\n",
      "Epoch 34/1000\n",
      "224/224 [==============================] - 0s 2ms/step - loss: 153504.7656 - MSE: 153504.7656 - val_loss: 156039.3594 - val_MSE: 156039.3594\n",
      "Epoch 35/1000\n",
      "224/224 [==============================] - 0s 2ms/step - loss: 153332.4062 - MSE: 153332.4062 - val_loss: 156339.6719 - val_MSE: 156339.6719\n",
      "Epoch 36/1000\n",
      "224/224 [==============================] - 0s 2ms/step - loss: 152600.9219 - MSE: 152600.9219 - val_loss: 155995.4688 - val_MSE: 155995.4531\n",
      "Epoch 37/1000\n",
      "224/224 [==============================] - 0s 2ms/step - loss: 152374.7500 - MSE: 152374.7500 - val_loss: 156858.9844 - val_MSE: 156858.9844\n",
      "Epoch 38/1000\n",
      "224/224 [==============================] - 0s 2ms/step - loss: 152146.9844 - MSE: 152147.0156 - val_loss: 155536.9844 - val_MSE: 155536.9844\n",
      "Epoch 39/1000\n",
      "224/224 [==============================] - 0s 2ms/step - loss: 151499.9375 - MSE: 151499.9375 - val_loss: 156448.8594 - val_MSE: 156448.8594\n",
      "Epoch 40/1000\n",
      "224/224 [==============================] - 1s 2ms/step - loss: 151801.7188 - MSE: 151801.7188 - val_loss: 154891.1250 - val_MSE: 154891.1250\n",
      "Epoch 41/1000\n",
      "224/224 [==============================] - 0s 2ms/step - loss: 150901.7969 - MSE: 150901.7969 - val_loss: 154480.8125 - val_MSE: 154480.8125\n",
      "Epoch 42/1000\n",
      "224/224 [==============================] - 1s 3ms/step - loss: 150768.0469 - MSE: 150768.0469 - val_loss: 154348.0312 - val_MSE: 154348.0312\n",
      "Epoch 43/1000\n",
      "224/224 [==============================] - 1s 3ms/step - loss: 150665.6406 - MSE: 150665.6406 - val_loss: 154384.1250 - val_MSE: 154384.1250\n",
      "Epoch 44/1000\n",
      "224/224 [==============================] - 0s 2ms/step - loss: 150306.0000 - MSE: 150306.0000 - val_loss: 153896.0938 - val_MSE: 153896.1094\n",
      "Epoch 45/1000\n",
      "224/224 [==============================] - 0s 2ms/step - loss: 149936.5469 - MSE: 149936.5469 - val_loss: 154633.4219 - val_MSE: 154633.4219\n",
      "Epoch 46/1000\n",
      "224/224 [==============================] - 0s 2ms/step - loss: 149354.5000 - MSE: 149354.5000 - val_loss: 155815.0000 - val_MSE: 155815.0000\n",
      "Epoch 47/1000\n",
      "224/224 [==============================] - 0s 2ms/step - loss: 149714.5625 - MSE: 149714.5469 - val_loss: 153341.7969 - val_MSE: 153341.7969\n",
      "Epoch 48/1000\n",
      "224/224 [==============================] - 0s 2ms/step - loss: 149383.0625 - MSE: 149383.0781 - val_loss: 152674.5000 - val_MSE: 152674.5000\n",
      "Epoch 49/1000\n",
      "224/224 [==============================] - 0s 2ms/step - loss: 148676.5156 - MSE: 148676.5156 - val_loss: 152917.9375 - val_MSE: 152917.9375\n",
      "Epoch 50/1000\n",
      "224/224 [==============================] - 0s 2ms/step - loss: 148870.1719 - MSE: 148870.1719 - val_loss: 152743.6562 - val_MSE: 152743.6562\n",
      "Epoch 51/1000\n",
      "224/224 [==============================] - 0s 2ms/step - loss: 148592.6562 - MSE: 148592.6562 - val_loss: 153398.7031 - val_MSE: 153398.7031\n",
      "Epoch 52/1000\n",
      "224/224 [==============================] - 0s 2ms/step - loss: 148132.6250 - MSE: 148132.6250 - val_loss: 152060.2188 - val_MSE: 152060.2031\n",
      "Epoch 53/1000\n",
      "224/224 [==============================] - 0s 2ms/step - loss: 148020.2188 - MSE: 148020.2188 - val_loss: 152930.2656 - val_MSE: 152930.2656\n",
      "Epoch 54/1000\n",
      "224/224 [==============================] - 0s 2ms/step - loss: 147776.6875 - MSE: 147776.6875 - val_loss: 151924.2188 - val_MSE: 151924.2188\n",
      "Epoch 55/1000\n",
      "224/224 [==============================] - 0s 2ms/step - loss: 147697.9375 - MSE: 147697.9375 - val_loss: 151633.5312 - val_MSE: 151633.5312\n",
      "Epoch 56/1000\n",
      "224/224 [==============================] - 0s 2ms/step - loss: 147156.3906 - MSE: 147156.3906 - val_loss: 151916.0469 - val_MSE: 151916.0469\n",
      "Epoch 57/1000\n",
      "224/224 [==============================] - 0s 2ms/step - loss: 147244.8906 - MSE: 147244.8906 - val_loss: 151535.5625 - val_MSE: 151535.5625\n",
      "Epoch 58/1000\n",
      "224/224 [==============================] - 0s 2ms/step - loss: 146806.6094 - MSE: 146806.6094 - val_loss: 152018.1875 - val_MSE: 152018.1875\n",
      "Epoch 59/1000\n",
      "224/224 [==============================] - 0s 2ms/step - loss: 146744.3438 - MSE: 146744.3438 - val_loss: 151420.4688 - val_MSE: 151420.4688\n",
      "Epoch 60/1000\n",
      "224/224 [==============================] - 0s 2ms/step - loss: 146418.3750 - MSE: 146418.3750 - val_loss: 152300.1562 - val_MSE: 152300.1562\n",
      "Epoch 61/1000\n",
      "224/224 [==============================] - 0s 2ms/step - loss: 146337.9062 - MSE: 146337.9062 - val_loss: 150755.7812 - val_MSE: 150755.7812\n",
      "Epoch 62/1000\n",
      "224/224 [==============================] - 0s 2ms/step - loss: 146231.6406 - MSE: 146231.6406 - val_loss: 150441.9688 - val_MSE: 150441.9688\n",
      "Epoch 63/1000\n",
      "224/224 [==============================] - 0s 2ms/step - loss: 145773.0625 - MSE: 145773.0625 - val_loss: 150012.9531 - val_MSE: 150012.9531\n",
      "Epoch 64/1000\n",
      "224/224 [==============================] - 0s 2ms/step - loss: 145671.7969 - MSE: 145671.7969 - val_loss: 149509.6094 - val_MSE: 149509.6094\n",
      "Epoch 65/1000\n",
      "224/224 [==============================] - 0s 2ms/step - loss: 145571.9531 - MSE: 145571.9531 - val_loss: 150254.6406 - val_MSE: 150254.6406\n",
      "Epoch 66/1000\n",
      "224/224 [==============================] - 0s 2ms/step - loss: 145325.2188 - MSE: 145325.2188 - val_loss: 150341.0156 - val_MSE: 150341.0156\n",
      "Epoch 67/1000\n",
      "224/224 [==============================] - 0s 2ms/step - loss: 145260.4688 - MSE: 145260.4688 - val_loss: 149589.3750 - val_MSE: 149589.3750\n",
      "Epoch 68/1000\n",
      "224/224 [==============================] - 0s 2ms/step - loss: 145511.8125 - MSE: 145511.8125 - val_loss: 149238.0156 - val_MSE: 149238.0156\n",
      "Epoch 69/1000\n",
      "224/224 [==============================] - 0s 2ms/step - loss: 144899.7500 - MSE: 144899.7500 - val_loss: 149511.0938 - val_MSE: 149511.0938\n",
      "Epoch 70/1000\n",
      "224/224 [==============================] - 0s 2ms/step - loss: 144886.8281 - MSE: 144886.8281 - val_loss: 149350.9531 - val_MSE: 149350.9531\n",
      "Epoch 71/1000\n",
      "224/224 [==============================] - 1s 2ms/step - loss: 144760.4375 - MSE: 144760.4375 - val_loss: 149961.0156 - val_MSE: 149961.0156\n",
      "Epoch 72/1000\n",
      "224/224 [==============================] - 0s 2ms/step - loss: 144641.1250 - MSE: 144641.1250 - val_loss: 149125.5000 - val_MSE: 149125.5000\n",
      "Epoch 73/1000\n",
      "224/224 [==============================] - 0s 2ms/step - loss: 144653.0312 - MSE: 144653.0312 - val_loss: 149030.3281 - val_MSE: 149030.3281\n",
      "Epoch 74/1000\n",
      "224/224 [==============================] - 0s 2ms/step - loss: 144366.8750 - MSE: 144366.8750 - val_loss: 151025.6406 - val_MSE: 151025.6562\n",
      "Epoch 75/1000\n",
      "224/224 [==============================] - 0s 2ms/step - loss: 144429.0938 - MSE: 144429.0938 - val_loss: 149127.2812 - val_MSE: 149127.2812\n",
      "Epoch 76/1000\n",
      "224/224 [==============================] - 0s 2ms/step - loss: 143834.3594 - MSE: 143834.3594 - val_loss: 148908.6875 - val_MSE: 148908.7031\n",
      "Epoch 77/1000\n",
      "224/224 [==============================] - 1s 2ms/step - loss: 143894.5625 - MSE: 143894.5625 - val_loss: 149722.7656 - val_MSE: 149722.7656\n",
      "Epoch 78/1000\n",
      "224/224 [==============================] - 0s 2ms/step - loss: 143816.7188 - MSE: 143816.7188 - val_loss: 148499.9844 - val_MSE: 148499.9844\n",
      "Epoch 79/1000\n",
      "224/224 [==============================] - 0s 2ms/step - loss: 143805.5000 - MSE: 143805.5000 - val_loss: 148762.9688 - val_MSE: 148762.9688\n",
      "Epoch 80/1000\n",
      "224/224 [==============================] - 0s 2ms/step - loss: 143437.0938 - MSE: 143437.0938 - val_loss: 148946.2656 - val_MSE: 148946.2656\n",
      "Epoch 81/1000\n",
      "224/224 [==============================] - 0s 2ms/step - loss: 143206.3594 - MSE: 143206.3594 - val_loss: 148050.0000 - val_MSE: 148050.0000\n",
      "Epoch 82/1000\n",
      "224/224 [==============================] - 0s 2ms/step - loss: 143384.0625 - MSE: 143384.0625 - val_loss: 148393.8906 - val_MSE: 148393.8906\n",
      "Epoch 83/1000\n",
      "224/224 [==============================] - 0s 2ms/step - loss: 142978.3438 - MSE: 142978.3438 - val_loss: 148435.4844 - val_MSE: 148435.4844\n",
      "Epoch 84/1000\n",
      "224/224 [==============================] - 0s 2ms/step - loss: 142888.2031 - MSE: 142888.2031 - val_loss: 147817.5625 - val_MSE: 147817.5625\n",
      "Epoch 85/1000\n",
      "224/224 [==============================] - 0s 2ms/step - loss: 142812.5156 - MSE: 142812.5156 - val_loss: 148113.8750 - val_MSE: 148113.8750\n",
      "Epoch 86/1000\n",
      "224/224 [==============================] - 0s 2ms/step - loss: 142879.4219 - MSE: 142879.4219 - val_loss: 147850.8125 - val_MSE: 147850.8125\n",
      "Epoch 87/1000\n",
      "224/224 [==============================] - 0s 2ms/step - loss: 142865.1094 - MSE: 142865.1094 - val_loss: 148198.8438 - val_MSE: 148198.8438\n",
      "Epoch 88/1000\n",
      "224/224 [==============================] - 0s 2ms/step - loss: 142831.9219 - MSE: 142831.9219 - val_loss: 148447.4375 - val_MSE: 148447.4375\n",
      "Epoch 89/1000\n",
      "224/224 [==============================] - 0s 2ms/step - loss: 142452.9531 - MSE: 142452.9531 - val_loss: 147749.3906 - val_MSE: 147749.3906\n",
      "Epoch 90/1000\n",
      "224/224 [==============================] - 0s 2ms/step - loss: 142221.9688 - MSE: 142221.9688 - val_loss: 150186.6719 - val_MSE: 150186.6719\n",
      "Epoch 91/1000\n",
      "224/224 [==============================] - 1s 3ms/step - loss: 142742.2188 - MSE: 142742.2188 - val_loss: 147990.8125 - val_MSE: 147990.8125\n",
      "Epoch 92/1000\n",
      "224/224 [==============================] - 1s 3ms/step - loss: 142466.3438 - MSE: 142466.3438 - val_loss: 147854.5312 - val_MSE: 147854.5312\n",
      "Epoch 93/1000\n",
      "224/224 [==============================] - 1s 3ms/step - loss: 142546.3438 - MSE: 142546.3438 - val_loss: 147720.8125 - val_MSE: 147720.8125\n",
      "Epoch 94/1000\n",
      "224/224 [==============================] - 1s 3ms/step - loss: 142170.0938 - MSE: 142170.0938 - val_loss: 147646.6562 - val_MSE: 147646.6562\n",
      "Epoch 95/1000\n",
      "224/224 [==============================] - 1s 2ms/step - loss: 142206.4375 - MSE: 142206.4375 - val_loss: 147278.4688 - val_MSE: 147278.4688\n",
      "Epoch 96/1000\n",
      "224/224 [==============================] - 1s 3ms/step - loss: 141828.3281 - MSE: 141828.3281 - val_loss: 148254.3906 - val_MSE: 148254.3906\n",
      "Epoch 97/1000\n",
      "224/224 [==============================] - 1s 2ms/step - loss: 142015.9688 - MSE: 142015.9688 - val_loss: 147258.4688 - val_MSE: 147258.4688\n",
      "Epoch 98/1000\n",
      "224/224 [==============================] - 1s 2ms/step - loss: 141688.0938 - MSE: 141688.0938 - val_loss: 147779.5156 - val_MSE: 147779.5156\n",
      "Epoch 99/1000\n",
      "224/224 [==============================] - 1s 2ms/step - loss: 141674.1250 - MSE: 141674.1406 - val_loss: 148255.5000 - val_MSE: 148255.5000\n",
      "Epoch 100/1000\n",
      "224/224 [==============================] - 1s 2ms/step - loss: 141845.1406 - MSE: 141845.1406 - val_loss: 147420.2188 - val_MSE: 147420.2188\n",
      "Epoch 101/1000\n",
      "224/224 [==============================] - 1s 2ms/step - loss: 141798.0312 - MSE: 141798.0312 - val_loss: 147322.8750 - val_MSE: 147322.8750\n",
      "Epoch 102/1000\n",
      "224/224 [==============================] - 1s 2ms/step - loss: 141482.4375 - MSE: 141482.4375 - val_loss: 147920.4688 - val_MSE: 147920.4688\n",
      "Epoch 102: early stopping\n"
     ]
    }
   ],
   "source": [
    "model=ans.fit(x_train,y_train,validation_split=0.4,batch_size=10,epochs=500,callbacks=early)"
   ]
  },
  {
   "cell_type": "code",
   "execution_count": 71,
   "metadata": {},
   "outputs": [
    {
     "data": {
      "text/plain": [
       "dict_keys(['loss', 'MSE', 'val_loss', 'val_MSE'])"
      ]
     },
     "execution_count": 71,
     "metadata": {},
     "output_type": "execute_result"
    }
   ],
   "source": [
    "model.history.keys()"
   ]
  },
  {
   "cell_type": "code",
   "execution_count": 86,
   "metadata": {},
   "outputs": [
    {
     "name": "stdout",
     "output_type": "stream",
     "text": [
      "39/39 [==============================] - 0s 2ms/step\n"
     ]
    },
    {
     "data": {
      "text/plain": [
       "0.6538268252148747"
      ]
     },
     "execution_count": 86,
     "metadata": {},
     "output_type": "execute_result"
    }
   ],
   "source": [
    "from sklearn.metrics import r2_score\n",
    "y_pred=ans.predict(x_test)\n",
    "y_pred\n",
    "r2_score(y_test,y_pred)"
   ]
  },
  {
   "cell_type": "code",
   "execution_count": 87,
   "metadata": {},
   "outputs": [
    {
     "data": {
      "image/png": "[encoded data removed]",
      "text/plain": [
       "<Figure size 640x480 with 1 Axes>"
      ]
     },
     "metadata": {},
     "output_type": "display_data"
    }
   ],
   "source": [
    "plt.plot(model.history['MSE'])\n",
    "plt.plot(model.history['val_MSE'])\n",
    "plt.xlabel('epoch')\n",
    "plt.ylabel('MSE')\n",
    "plt.title('model accuracy')\n",
    "plt.show()"
   ]
  },
  {
   "cell_type": "code",
   "execution_count": 88,
   "metadata": {},
   "outputs": [
    {
     "data": {
      "image/png": "[encoded data removed]",
      "text/plain": [
       "<Figure size 640x480 with 1 Axes>"
      ]
     },
     "metadata": {},
     "output_type": "display_data"
    }
   ],
   "source": [
    "plt.plot(model.history['loss'])\n",
    "plt.plot(model.history['val_loss'])\n",
    "plt.xlabel('epoch')\n",
    "plt.ylabel('MSE')\n",
    "plt.title('model accuracy')\n",
    "plt.show()"
   ]
  },
  {
   "cell_type": "code",
   "execution_count": 74,
   "metadata": {},
   "outputs": [],
   "source": [
    "from sklearn.ensemble import RandomForestRegressor\n",
    "rnc=RandomForestRegressor()\n",
    "rnc.fit(x_train,y_train)\n",
    "y_pred1=rnc.predict(x_test)"
   ]
  },
  {
   "cell_type": "code",
   "execution_count": 75,
   "metadata": {},
   "outputs": [
    {
     "data": {
      "text/plain": [
       "0.6890682491035407"
      ]
     },
     "execution_count": 75,
     "metadata": {},
     "output_type": "execute_result"
    }
   ],
   "source": [
    "from sklearn.metrics import r2_score\n",
    "r2_score(y_test,y_pred1)"
   ]
  },
  {
   "cell_type": "code",
   "execution_count": 89,
   "metadata": {},
   "outputs": [],
   "source": [
    "cleaned=df2.to_csv('Cleaned')"
   ]
  },
  {
   "cell_type": "code",
   "execution_count": 91,
   "metadata": {},
   "outputs": [
    {
     "data": {
      "text/plain": [
       "10.0"
      ]
     },
     "execution_count": 91,
     "metadata": {},
     "output_type": "execute_result"
    }
   ],
   "source": [
    "1e+1"
   ]
  }
 ],
 "metadata": {
  "kernelspec": {
   "display_name": "Python 3",
   "language": "python",
   "name": "python3"
  },
  "language_info": {
   "codemirror_mode": {
    "name": "ipython",
    "version": 3
   },
   "file_extension": ".py",
   "mimetype": "text/x-python",
   "name": "python",
   "nbconvert_exporter": "python",
   "pygments_lexer": "ipython3",
   "version": "3.11.2"
  },
  "orig_nbformat": 4,
  "vscode": {
   "interpreter": {
    "hash": "108095e740c160118120ad5e22811b4aca9f414a6f3c55c969835bc2c10848d1"
   }
  }
 },
 "nbformat": 4,
 "nbformat_minor": 2
}
